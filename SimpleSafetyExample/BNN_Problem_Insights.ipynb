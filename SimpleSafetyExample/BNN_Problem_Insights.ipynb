{
 "cells": [
  {
   "cell_type": "code",
   "execution_count": 1,
   "metadata": {},
   "outputs": [],
   "source": [
    "import numpy as np\n",
    "import matplotlib\n",
    "import matplotlib.pyplot as plt\n",
    "np.random.seed(1)\n",
    "\n",
    "# Number of data points we want to use:\n",
    "n_data = 20\n",
    "# Range of X values\n",
    "X_train = np.random.uniform(-4,4,(n_data))\n",
    "# Range of noise\n",
    "noise = np.random.normal(0.0,9,(n_data))\n",
    "# Computed y values\n",
    "y_train = [X_train[i]**3 + noise[i] for i in(range(len(X_train)))]\n",
    "\n",
    "act = 'relu'\n",
    "width = 128"
   ]
  },
  {
   "cell_type": "code",
   "execution_count": 2,
   "metadata": {},
   "outputs": [
    {
     "name": "stderr",
     "output_type": "stream",
     "text": [
      "/usr/local/lib/python2.7/site-packages/h5py/__init__.py:34: FutureWarning: Conversion of the second argument of issubdtype from `float` to `np.floating` is deprecated. In future, it will be treated as `np.float64 == np.dtype(float).type`.\n",
      "  from ._conv import register_converters as _register_converters\n"
     ]
    },
    {
     "data": {
      "text/plain": [
       "'\\np_ibp = interval_bound_propagation([[0.0]], [[-1],[1]], [[-18],[18]], \\n                           w_margin=1.0, \\n                           act = act, \\n                           search_samps = 250)\\nprint p_ibp\\np_lin = linear_propogation([[0.0]], [[-1],[1]], [[-18],[18]], \\n                           w_margin=1.0, \\n                           act = act, \\n                           search_samps = 250)\\nprint p_lin\\n'"
      ]
     },
     "execution_count": 2,
     "metadata": {},
     "output_type": "execute_result"
    }
   ],
   "source": [
    "from ProbabilisticReachability import *\n",
    "from ProbabilisticReachability import interval_bound_propagation\n",
    "from ProbabilisticReachability import linear_propogation\n",
    "\n",
    "set_width(128)\n",
    "\"\"\"\n",
    "p_ibp = interval_bound_propagation([[0.0]], [[-1],[1]], [[-18],[18]], \n",
    "                           w_margin=1.0, \n",
    "                           act = act, \n",
    "                           search_samps = 250)\n",
    "print p_ibp\n",
    "p_lin = linear_propogation([[0.0]], [[-1],[1]], [[-18],[18]], \n",
    "                           w_margin=1.0, \n",
    "                           act = act, \n",
    "                           search_samps = 250)\n",
    "print p_lin\n",
    "\"\"\""
   ]
  },
  {
   "cell_type": "code",
   "execution_count": 3,
   "metadata": {},
   "outputs": [
    {
     "name": "stderr",
     "output_type": "stream",
     "text": [
      " 12%|█▏        | 37/300 [00:00<00:00, 366.95it/s]"
     ]
    },
    {
     "name": "stdout",
     "output_type": "stream",
     "text": [
      "[0.15, 6]\n"
     ]
    },
    {
     "name": "stderr",
     "output_type": "stream",
     "text": [
      "100%|██████████| 300/300 [00:00<00:00, 365.39it/s]\n"
     ]
    },
    {
     "name": "stdout",
     "output_type": "stream",
     "text": [
      "We found 91 many valid intervals.\n"
     ]
    },
    {
     "name": "stderr",
     "output_type": "stream",
     "text": [
      " 12%|█▏        | 37/300 [00:00<00:00, 362.34it/s]"
     ]
    },
    {
     "name": "stdout",
     "output_type": "stream",
     "text": [
      "[0.15, 9]\n"
     ]
    },
    {
     "name": "stderr",
     "output_type": "stream",
     "text": [
      "100%|██████████| 300/300 [00:00<00:00, 370.93it/s]\n"
     ]
    },
    {
     "name": "stdout",
     "output_type": "stream",
     "text": [
      "We found 297 many valid intervals.\n"
     ]
    },
    {
     "name": "stderr",
     "output_type": "stream",
     "text": [
      " 12%|█▏        | 37/300 [00:00<00:00, 369.22it/s]"
     ]
    },
    {
     "name": "stdout",
     "output_type": "stream",
     "text": [
      "[0.15, 12]\n"
     ]
    },
    {
     "name": "stderr",
     "output_type": "stream",
     "text": [
      "100%|██████████| 300/300 [00:00<00:00, 370.65it/s]\n"
     ]
    },
    {
     "name": "stdout",
     "output_type": "stream",
     "text": [
      "We found 300 many valid intervals.\n"
     ]
    },
    {
     "name": "stderr",
     "output_type": "stream",
     "text": [
      " 12%|█▏        | 37/300 [00:00<00:00, 369.70it/s]"
     ]
    },
    {
     "name": "stdout",
     "output_type": "stream",
     "text": [
      "[0.3, 6]\n"
     ]
    },
    {
     "name": "stderr",
     "output_type": "stream",
     "text": [
      "100%|██████████| 300/300 [00:00<00:00, 372.23it/s]\n",
      "  0%|          | 0/300 [00:00<?, ?it/s]"
     ]
    },
    {
     "name": "stdout",
     "output_type": "stream",
     "text": [
      "We found 17 many valid intervals.\n",
      "[0.3, 9]\n"
     ]
    },
    {
     "name": "stderr",
     "output_type": "stream",
     "text": [
      "100%|██████████| 300/300 [00:00<00:00, 377.18it/s]\n"
     ]
    },
    {
     "name": "stdout",
     "output_type": "stream",
     "text": [
      "We found 287 many valid intervals.\n"
     ]
    },
    {
     "name": "stderr",
     "output_type": "stream",
     "text": [
      "  8%|▊         | 23/300 [00:00<00:01, 227.40it/s]"
     ]
    },
    {
     "name": "stdout",
     "output_type": "stream",
     "text": [
      "[0.3, 12]\n"
     ]
    },
    {
     "name": "stderr",
     "output_type": "stream",
     "text": [
      "100%|██████████| 300/300 [00:01<00:00, 270.19it/s]\n"
     ]
    },
    {
     "name": "stdout",
     "output_type": "stream",
     "text": [
      "We found 300 many valid intervals.\n"
     ]
    },
    {
     "name": "stderr",
     "output_type": "stream",
     "text": [
      " 12%|█▏        | 37/300 [00:00<00:00, 365.29it/s]"
     ]
    },
    {
     "name": "stdout",
     "output_type": "stream",
     "text": [
      "[0.45, 6]\n"
     ]
    },
    {
     "name": "stderr",
     "output_type": "stream",
     "text": [
      "100%|██████████| 300/300 [00:00<00:00, 363.26it/s]\n",
      " 11%|█         | 33/300 [00:00<00:00, 324.08it/s]"
     ]
    },
    {
     "name": "stdout",
     "output_type": "stream",
     "text": [
      "We found 0 many valid intervals.\n",
      "[0.45, 9]\n"
     ]
    },
    {
     "name": "stderr",
     "output_type": "stream",
     "text": [
      "100%|██████████| 300/300 [00:00<00:00, 345.36it/s]\n"
     ]
    },
    {
     "name": "stdout",
     "output_type": "stream",
     "text": [
      "We found 223 many valid intervals.\n"
     ]
    },
    {
     "name": "stderr",
     "output_type": "stream",
     "text": [
      "\r",
      "  0%|          | 0/300 [00:00<?, ?it/s]"
     ]
    },
    {
     "name": "stdout",
     "output_type": "stream",
     "text": [
      "[0.45, 12]\n"
     ]
    },
    {
     "name": "stderr",
     "output_type": "stream",
     "text": [
      "100%|██████████| 300/300 [00:01<00:00, 234.97it/s]\n"
     ]
    },
    {
     "name": "stdout",
     "output_type": "stream",
     "text": [
      "We found 298 many valid intervals.\n"
     ]
    }
   ],
   "source": [
    "\n",
    "result_ibp = np.zeros((3,3))\n",
    "map_ibp = []\n",
    "n = [0.15, 0.3, 0.45]\n",
    "d = [6, 9, 12]\n",
    "for i in range(3):\n",
    "    for j in range(3):\n",
    "        print [n[i], d[j]]\n",
    "        p_ibp = interval_bound_propagation([[0.0]], [[-1*n[i]],[n[i]]], [[-1*d[j]],[d[j]]], \n",
    "                           w_margin=0.75, \n",
    "                           act = act, \n",
    "                           search_samps = 300)\n",
    "        result_ibp[i][j] = p_ibp\n",
    "        map_ibp.append([n[i], d[j]])\n"
   ]
  },
  {
   "cell_type": "code",
   "execution_count": 4,
   "metadata": {},
   "outputs": [
    {
     "name": "stdout",
     "output_type": "stream",
     "text": [
      "[[3.46023560e-01 7.82128925e-01 7.86799091e-01]\n",
      " [3.07749626e-05 7.56463169e-01 7.88111491e-01]\n",
      " [0.00000000e+00 7.10702947e-01 7.74780460e-01]]\n",
      "[[ -1.06124841  -0.24573569  -0.23978235]\n",
      " [-10.3888091   -0.27910143  -0.23811571]\n",
      " [        -inf  -0.34150073  -0.25517557]]\n",
      "[[0.15, 6], [0.15, 9], [0.15, 12], [0.3, 6], [0.3, 9], [0.3, 12], [0.45, 6], [0.45, 9], [0.45, 12]]\n"
     ]
    },
    {
     "name": "stderr",
     "output_type": "stream",
     "text": [
      "/Users/matthewwicker/Library/Python/2.7/lib/python/site-packages/ipykernel_launcher.py:3: RuntimeWarning: divide by zero encountered in log\n",
      "  This is separate from the ipykernel package so we can avoid doing imports until\n"
     ]
    },
    {
     "data": {
      "image/png": "[encoded data removed]",
      "text/plain": [
       "<Figure size 432x288 with 2 Axes>"
      ]
     },
     "metadata": {},
     "output_type": "display_data"
    }
   ],
   "source": [
    "import seaborn as sns\n",
    "print result_ibp\n",
    "print np.log(result_ibp)\n",
    "#plt.imshow(np.transpose(result_lin), norm=matplotlib.colors.LogNorm(), cmap='cividis')\n",
    "#plt.imshow(np.transpose(result_ibp), cmap='Spectral_r')\n",
    "sns.heatmap(np.transpose(result_ibp) ,\n",
    "            annot=True, fmt=\".2f\", \n",
    "            cmap='Spectral_r', vmin=0, vmax=1,\n",
    "           xticklabels=n, yticklabels=d)\n",
    "#plt.colorbar()\n",
    "#plt.xticks([0,1,2], n)\n",
    "#plt.yticks([0,1,2], d)\n",
    "print map_ibp\n",
    "plt.title('Interval Bound Propagation - Property Params')\n",
    "plt.ylabel(r'Error Allowed ($\\delta$)')\n",
    "plt.xlabel(r'Input Region ($\\epsilon$)')\n",
    "#plt.clim(0,1.0)\n",
    "plt.show()\n"
   ]
  },
  {
   "cell_type": "code",
   "execution_count": 5,
   "metadata": {},
   "outputs": [
    {
     "name": "stderr",
     "output_type": "stream",
     "text": [
      "  4%|▎         | 7/200 [00:00<00:03, 61.83it/s]"
     ]
    },
    {
     "name": "stdout",
     "output_type": "stream",
     "text": [
      "0 0\n"
     ]
    },
    {
     "name": "stderr",
     "output_type": "stream",
     "text": [
      "100%|██████████| 200/200 [00:04<00:00, 47.47it/s]\n"
     ]
    },
    {
     "name": "stdout",
     "output_type": "stream",
     "text": [
      "We found 118 many valid intervals.\n"
     ]
    },
    {
     "name": "stderr",
     "output_type": "stream",
     "text": [
      "  2%|▏         | 4/200 [00:00<00:05, 37.29it/s]"
     ]
    },
    {
     "name": "stdout",
     "output_type": "stream",
     "text": [
      "0 1\n"
     ]
    },
    {
     "name": "stderr",
     "output_type": "stream",
     "text": [
      "100%|██████████| 200/200 [00:03<00:00, 57.11it/s]\n"
     ]
    },
    {
     "name": "stdout",
     "output_type": "stream",
     "text": [
      "We found 200 many valid intervals.\n"
     ]
    },
    {
     "name": "stderr",
     "output_type": "stream",
     "text": [
      "  4%|▎         | 7/200 [00:00<00:03, 63.72it/s]"
     ]
    },
    {
     "name": "stdout",
     "output_type": "stream",
     "text": [
      "0 2\n"
     ]
    },
    {
     "name": "stderr",
     "output_type": "stream",
     "text": [
      "100%|██████████| 200/200 [00:03<00:00, 60.99it/s]\n"
     ]
    },
    {
     "name": "stdout",
     "output_type": "stream",
     "text": [
      "We found 200 many valid intervals.\n"
     ]
    },
    {
     "name": "stderr",
     "output_type": "stream",
     "text": [
      "  3%|▎         | 6/200 [00:00<00:03, 59.84it/s]"
     ]
    },
    {
     "name": "stdout",
     "output_type": "stream",
     "text": [
      "1 0\n"
     ]
    },
    {
     "name": "stderr",
     "output_type": "stream",
     "text": [
      "100%|██████████| 200/200 [00:03<00:00, 62.88it/s]\n",
      "  4%|▎         | 7/200 [00:00<00:03, 61.90it/s]"
     ]
    },
    {
     "name": "stdout",
     "output_type": "stream",
     "text": [
      "We found 11 many valid intervals.\n",
      "1 1\n"
     ]
    },
    {
     "name": "stderr",
     "output_type": "stream",
     "text": [
      "100%|██████████| 200/200 [00:04<00:00, 42.92it/s]\n"
     ]
    },
    {
     "name": "stdout",
     "output_type": "stream",
     "text": [
      "We found 198 many valid intervals.\n"
     ]
    },
    {
     "name": "stderr",
     "output_type": "stream",
     "text": [
      "  3%|▎         | 6/200 [00:00<00:03, 59.85it/s]"
     ]
    },
    {
     "name": "stdout",
     "output_type": "stream",
     "text": [
      "1 2\n"
     ]
    },
    {
     "name": "stderr",
     "output_type": "stream",
     "text": [
      "100%|██████████| 200/200 [00:03<00:00, 55.27it/s]\n"
     ]
    },
    {
     "name": "stdout",
     "output_type": "stream",
     "text": [
      "We found 200 many valid intervals.\n"
     ]
    },
    {
     "name": "stderr",
     "output_type": "stream",
     "text": [
      "  3%|▎         | 6/200 [00:00<00:03, 59.75it/s]"
     ]
    },
    {
     "name": "stdout",
     "output_type": "stream",
     "text": [
      "2 0\n"
     ]
    },
    {
     "name": "stderr",
     "output_type": "stream",
     "text": [
      "100%|██████████| 200/200 [00:03<00:00, 55.21it/s]\n",
      "  4%|▎         | 7/200 [00:00<00:03, 60.98it/s]"
     ]
    },
    {
     "name": "stdout",
     "output_type": "stream",
     "text": [
      "We found 0 many valid intervals.\n",
      "2 1\n"
     ]
    },
    {
     "name": "stderr",
     "output_type": "stream",
     "text": [
      "100%|██████████| 200/200 [00:04<00:00, 47.95it/s]\n"
     ]
    },
    {
     "name": "stdout",
     "output_type": "stream",
     "text": [
      "We found 136 many valid intervals.\n"
     ]
    },
    {
     "name": "stderr",
     "output_type": "stream",
     "text": [
      "  4%|▎         | 7/200 [00:00<00:03, 61.74it/s]"
     ]
    },
    {
     "name": "stdout",
     "output_type": "stream",
     "text": [
      "2 2\n"
     ]
    },
    {
     "name": "stderr",
     "output_type": "stream",
     "text": [
      "100%|██████████| 200/200 [00:03<00:00, 60.81it/s]\n"
     ]
    },
    {
     "name": "stdout",
     "output_type": "stream",
     "text": [
      "We found 200 many valid intervals.\n"
     ]
    }
   ],
   "source": [
    "result_lin = np.zeros((3,3))\n",
    "n = [0.15, 0.3, 0.45]\n",
    "d = [6, 9, 12]\n",
    "for i in range(3):\n",
    "    for j in range(3):\n",
    "        print i, j\n",
    "        p_ibp = linear_propogation([[0.0]], [[-1*n[i]],[n[i]]], [[-1*d[j]],[d[j]]], \n",
    "                           w_margin=1.25, \n",
    "                           act = act, \n",
    "                           search_samps = 200)\n",
    "        result_lin[i][j] = p_ibp"
   ]
  },
  {
   "cell_type": "code",
   "execution_count": 6,
   "metadata": {},
   "outputs": [
    {
     "name": "stdout",
     "output_type": "stream",
     "text": [
      "[[0.86921313 0.93827156 0.93428807]\n",
      " [0.00979864 0.93858866 0.93919476]\n",
      " [0.         0.90243408 0.94244518]]\n"
     ]
    },
    {
     "data": {
      "image/png": "[encoded data removed]",
      "text/plain": [
       "<Figure size 432x288 with 2 Axes>"
      ]
     },
     "metadata": {},
     "output_type": "display_data"
    }
   ],
   "source": [
    "print result_lin\n",
    "#plt.imshow(np.transpose(result_lin), cmap='cividis')\n",
    "sns.heatmap(np.transpose(result_lin) , annot=True, \n",
    "            fmt=\".2f\", cmap='Spectral_r', vmin=0, vmax=1,\n",
    "           xticklabels=n, yticklabels=d)\n",
    "\n",
    "#plt.xticks([0,1,2], n)\n",
    "#plt.yticks([0,1,2], d)\n",
    "plt.title('Linear Propagation - Property Params')\n",
    "plt.ylabel(r'Error Allowed ($\\delta$)')\n",
    "plt.xlabel(r'Input Region ($\\epsilon$)')\n",
    "#plt.clim(0.13,0.42)\n",
    "plt.show()"
   ]
  }
 ],
 "metadata": {
  "kernelspec": {
   "display_name": "Python 2",
   "language": "python",
   "name": "python2"
  },
  "language_info": {
   "codemirror_mode": {
    "name": "ipython",
    "version": 2
   },
   "file_extension": ".py",
   "mimetype": "text/x-python",
   "name": "python",
   "nbconvert_exporter": "python",
   "pygments_lexer": "ipython2",
   "version": "2.7.15"
  }
 },
 "nbformat": 4,
 "nbformat_minor": 2
}
